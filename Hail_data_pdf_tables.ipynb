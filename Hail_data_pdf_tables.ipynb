{
 "cells": [
  {
   "cell_type": "code",
   "execution_count": 24,
   "metadata": {},
   "outputs": [],
   "source": [
    "import os\n",
    "import pandas as pd\n",
    "import numpy as np\n",
    "from tabula import wrapper"
   ]
  },
  {
   "cell_type": "code",
   "execution_count": 25,
   "metadata": {},
   "outputs": [
    {
     "name": "stdout",
     "output_type": "stream",
     "text": [
      "['sv_01_16a_530.pdf', 'sv_01_17a_580.pdf', 'sv_02_15a_530.pdf', 'sv_02_16a_530.pdf', 'sv_02_17a_530.pdf', 'sv_03_16a_5300.pdf', 'sv_03_17a_5260.pdf', 'sv_04_15a_530.pdf', 'sv_04_16a_530.pdf', 'sv_04_17a_540.pdf', 'sv_05_15a_530.pdf', 'sv_05_16a_530.pdf', 'sv_05_17a_540.pdf', 'sv_06_15a_5180.pdf', 'sv_06_16a_5160.pdf', 'sv_06_17a_5140.pdf', 'sv_07_15a_530.pdf', 'sv_07_16a_530.pdf', 'sv_07_17a_530.pdf', 'sv_08_15a_530.pdf', 'sv_08_16a_530.pdf', 'sv_08_17a_530.pdf', 'sv_09_15a_580.pdf', 'sv_10_15a_530.pdf', 'sv_10_16a_530.pdf', 'sv_10_17a_530.pdf', 'sv_11_15a_530.pdf', 'sv_11_16a_530.pdf', 'sv_11_17a_530.pdf', 'sv_12_15a_5100.pdf', 'sv_12_16a_590.pdf', 'sv_12_17a_590.pdf']\n"
     ]
    }
   ],
   "source": [
    "list_pdf=[i for i in os.listdir('.') if i[-3:]==\"pdf\"]\n",
    "print(list_pdf)"
   ]
  },
  {
   "cell_type": "code",
   "execution_count": 26,
   "metadata": {},
   "outputs": [],
   "source": [
    "def tables_reader(pdf):\n",
    "    tables=wrapper.read_pdf(pdf,output_format=\"dataframe\",multiple_tables = True,pages=\"all\")\n",
    "    data=pd.DataFrame()\n",
    "    for i in range(0,len(tables)):\n",
    "        tables[i]=tables[i].dropna(subset=[0])\n",
    "        tables[i].columns=tables[i].iloc[0]\n",
    "        tables[i]=tables[i].drop(tables[i].index[0])\n",
    "        if \"Մարզ/դիտակայան\" in tables[i].columns: \n",
    "            data=pd.concat([data,tables[i]],ignore_index=True,sort=False)\n",
    "    return data"
   ]
  },
  {
   "cell_type": "code",
   "execution_count": 27,
   "metadata": {},
   "outputs": [],
   "source": [
    "data_full=pd.DataFrame()\n",
    "for j in list_pdf:\n",
    "    data=tables_reader(j)\n",
    "    data['date']=j\n",
    "    data=data.iloc[:,[0,-1]]\n",
    "    data_full=pd.concat([data_full,data],axis=0,ignore_index=True)\n",
    "    data_full.to_excel(\"data_full.xlsx\")"
   ]
  },
  {
   "cell_type": "code",
   "execution_count": null,
   "metadata": {},
   "outputs": [],
   "source": []
  }
 ],
 "metadata": {
  "kernelspec": {
   "display_name": "Python 3",
   "language": "python",
   "name": "python3"
  },
  "language_info": {
   "codemirror_mode": {
    "name": "ipython",
    "version": 3
   },
   "file_extension": ".py",
   "mimetype": "text/x-python",
   "name": "python",
   "nbconvert_exporter": "python",
   "pygments_lexer": "ipython3",
   "version": "3.6.5"
  }
 },
 "nbformat": 4,
 "nbformat_minor": 2
}
